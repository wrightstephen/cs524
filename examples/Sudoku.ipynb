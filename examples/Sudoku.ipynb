{
 "cells": [
  {
   "cell_type": "markdown",
   "metadata": {},
   "source": [
    "## Sudoku solver\n",
    "You are given a 9x9 grid of numbers:\n",
    "\n",
    "<table style=\"border-collapse: collapse;\">\n",
    "  <colgroup style=\"border: solid medium;\"><col><col><col>\n",
    "  <colgroup style=\"border: solid medium;\"><col><col><col>\n",
    "  <colgroup style=\"border: solid medium;\"><col><col><col>\n",
    "  <tbody style=\"border: solid medium;\">\n",
    "   <tr><td style=\"padding: 0; text-align: center; border: solid thin; height: 2.0em; width: 2.0em;\"> <td style=\"padding: 0; text-align: center; border: solid thin; height: 2.0em; width: 2.0em;\"> <td style=\"padding: 0; text-align: center; border: solid thin; height: 2.0em; width: 2.0em;\"> <td style=\"padding: 0; text-align: center; border: solid thin; height: 2.0em; width: 2.0em;\"> <td style=\"padding: 0; text-align: center; border: solid thin; height: 2.0em; width: 2.0em;\"> <td style=\"padding: 0; text-align: center; border: solid thin; height: 2.0em; width: 2.0em;\">1<td style=\"padding: 0; text-align: center; border: solid thin; height: 2.0em; width: 2.0em;\"> <td style=\"padding: 0; text-align: center; border: solid thin; height: 2.0em; width: 2.0em;\"> <td style=\"padding: 0; text-align: center; border: solid thin; height: 2.0em; width: 2.0em;\"> \n",
    "   <tr><td style=\"padding: 0; text-align: center; border: solid thin; height: 2.0em; width: 2.0em;\">2<td style=\"padding: 0; text-align: center; border: solid thin; height: 2.0em; width: 2.0em;\">7<td style=\"padding: 0; text-align: center; border: solid thin; height: 2.0em; width: 2.0em;\"> <td style=\"padding: 0; text-align: center; border: solid thin; height: 2.0em; width: 2.0em;\"> <td style=\"padding: 0; text-align: center; border: solid thin; height: 2.0em; width: 2.0em;\">9<td style=\"padding: 0; text-align: center; border: solid thin; height: 2.0em; width: 2.0em;\"> <td style=\"padding: 0; text-align: center; border: solid thin; height: 2.0em; width: 2.0em;\">5<td style=\"padding: 0; text-align: center; border: solid thin; height: 2.0em; width: 2.0em;\"> <td style=\"padding: 0; text-align: center; border: solid thin; height: 2.0em; width: 2.0em;\">\n",
    "   <tr><td style=\"padding: 0; text-align: center; border: solid thin; height: 2.0em; width: 2.0em;\"> <td style=\"padding: 0; text-align: center; border: solid thin; height: 2.0em; width: 2.0em;\">8<td style=\"padding: 0; text-align: center; border: solid thin; height: 2.0em; width: 2.0em;\"> <td style=\"padding: 0; text-align: center; border: solid thin; height: 2.0em; width: 2.0em;\"> <td style=\"padding: 0; text-align: center; border: solid thin; height: 2.0em; width: 2.0em;\"> <td style=\"padding: 0; text-align: center; border: solid thin; height: 2.0em; width: 2.0em;\">5<td style=\"padding: 0; text-align: center; border: solid thin; height: 2.0em; width: 2.0em;\"> <td style=\"padding: 0; text-align: center; border: solid thin; height: 2.0em; width: 2.0em;\"> <td style=\"padding: 0; text-align: center; border: solid thin; height: 2.0em; width: 2.0em;\">3\n",
    "  <tbody style=\"border: solid medium;\">\n",
    "   <tr><td style=\"padding: 0; text-align: center; border: solid thin; height: 2.0em; width: 2.0em;\"> <td style=\"padding: 0; text-align: center; border: solid thin; height: 2.0em; width: 2.0em;\"> <td style=\"padding: 0; text-align: center; border: solid thin; height: 2.0em; width: 2.0em;\">8<td style=\"padding: 0; text-align: center; border: solid thin; height: 2.0em; width: 2.0em;\"> <td style=\"padding: 0; text-align: center; border: solid thin; height: 2.0em; width: 2.0em;\">3<td style=\"padding: 0; text-align: center; border: solid thin; height: 2.0em; width: 2.0em;\"> <td style=\"padding: 0; text-align: center; border: solid thin; height: 2.0em; width: 2.0em;\"> <td style=\"padding: 0; text-align: center; border: solid thin; height: 2.0em; width: 2.0em;\">2<td style=\"padding: 0; text-align: center; border: solid thin; height: 2.0em; width: 2.0em;\"> \n",
    "   <tr><td style=\"padding: 0; text-align: center; border: solid thin; height: 2.0em; width: 2.0em;\"> <td style=\"padding: 0; text-align: center; border: solid thin; height: 2.0em; width: 2.0em;\">5<td style=\"padding: 0; text-align: center; border: solid thin; height: 2.0em; width: 2.0em;\"> <td style=\"padding: 0; text-align: center; border: solid thin; height: 2.0em; width: 2.0em;\">1<td style=\"padding: 0; text-align: center; border: solid thin; height: 2.0em; width: 2.0em;\"> <td style=\"padding: 0; text-align: center; border: solid thin; height: 2.0em; width: 2.0em;\">2<td style=\"padding: 0; text-align: center; border: solid thin; height: 2.0em; width: 2.0em;\"> <td style=\"padding: 0; text-align: center; border: solid thin; height: 2.0em; width: 2.0em;\">9<td style=\"padding: 0; text-align: center; border: solid thin; height: 2.0em; width: 2.0em;\">\n",
    "   <tr><td style=\"padding: 0; text-align: center; border: solid thin; height: 2.0em; width: 2.0em;\"> <td style=\"padding: 0; text-align: center; border: solid thin; height: 2.0em; width: 2.0em;\">1<td style=\"padding: 0; text-align: center; border: solid thin; height: 2.0em; width: 2.0em;\"> <td style=\"padding: 0; text-align: center; border: solid thin; height: 2.0em; width: 2.0em;\"> <td style=\"padding: 0; text-align: center; border: solid thin; height: 2.0em; width: 2.0em;\">5<td style=\"padding: 0; text-align: center; border: solid thin; height: 2.0em; width: 2.0em;\"> <td style=\"padding: 0; text-align: center; border: solid thin; height: 2.0em; width: 2.0em;\">7<td style=\"padding: 0; text-align: center; border: solid thin; height: 2.0em; width: 2.0em;\"> <td style=\"padding: 0; text-align: center; border: solid thin; height: 2.0em; width: 2.0em;\"> \n",
    "  <tbody style=\"border: solid medium;\">\n",
    "   <tr><td style=\"padding: 0; text-align: center; border: solid thin; height: 2.0em; width: 2.0em;\">5<td style=\"padding: 0; text-align: center; border: solid thin; height: 2.0em; width: 2.0em;\"> <td style=\"padding: 0; text-align: center; border: solid thin; height: 2.0em; width: 2.0em;\"> <td style=\"padding: 0; text-align: center; border: solid thin; height: 2.0em; width: 2.0em;\">6<td style=\"padding: 0; text-align: center; border: solid thin; height: 2.0em; width: 2.0em;\"> <td style=\"padding: 0; text-align: center; border: solid thin; height: 2.0em; width: 2.0em;\"> <td style=\"padding: 0; text-align: center; border: solid thin; height: 2.0em; width: 2.0em;\"> <td style=\"padding: 0; text-align: center; border: solid thin; height: 2.0em; width: 2.0em;\">3<td style=\"padding: 0; text-align: center; border: solid thin; height: 2.0em; width: 2.0em;\"> \n",
    "   <tr><td style=\"padding: 0; text-align: center; border: solid thin; height: 2.0em; width: 2.0em;\"> <td style=\"padding: 0; text-align: center; border: solid thin; height: 2.0em; width: 2.0em;\"> <td style=\"padding: 0; text-align: center; border: solid thin; height: 2.0em; width: 2.0em;\">9<td style=\"padding: 0; text-align: center; border: solid thin; height: 2.0em; width: 2.0em;\"> <td style=\"padding: 0; text-align: center; border: solid thin; height: 2.0em; width: 2.0em;\">1<td style=\"padding: 0; text-align: center; border: solid thin; height: 2.0em; width: 2.0em;\"> <td style=\"padding: 0; text-align: center; border: solid thin; height: 2.0em; width: 2.0em;\"> <td style=\"padding: 0; text-align: center; border: solid thin; height: 2.0em; width: 2.0em;\">6<td style=\"padding: 0; text-align: center; border: solid thin; height: 2.0em; width: 2.0em;\">2\n",
    "   <tr><td style=\"padding: 0; text-align: center; border: solid thin; height: 2.0em; width: 2.0em;\"> <td style=\"padding: 0; text-align: center; border: solid thin; height: 2.0em; width: 2.0em;\"> <td style=\"padding: 0; text-align: center; border: solid thin; height: 2.0em; width: 2.0em;\"> <td style=\"padding: 0; text-align: center; border: solid thin; height: 2.0em; width: 2.0em;\">2<td style=\"padding: 0; text-align: center; border: solid thin; height: 2.0em; width: 2.0em;\"> <td style=\"padding: 0; text-align: center; border: solid thin; height: 2.0em; width: 2.0em;\"> <td style=\"padding: 0; text-align: center; border: solid thin; height: 2.0em; width: 2.0em;\"> <td style=\"padding: 0; text-align: center; border: solid thin; height: 2.0em; width: 2.0em;\"> <td style=\"padding: 0; text-align: center; border: solid thin; height: 2.0em; width: 2.0em;\"> \n",
    "</table>\n",
    "\n",
    "Your task is to fill in the grid in such a way that\n",
    "- Each row uses each of the numbers 1,2,...,9 exactly once\n",
    "- Each column uses each of the numbers 1,2,...,9 exactly once\n",
    "- Each smaller 3x3 square with a thick border uses each of the numbers 1,2,...,9 exactly once"
   ]
  },
  {
   "cell_type": "markdown",
   "metadata": {},
   "source": [
    "#### Problem data"
   ]
  },
  {
   "cell_type": "code",
   "execution_count": 14,
   "metadata": {},
   "outputs": [],
   "source": [
    "# Given data. Unknown entries are specified as \"0\"\n",
    "given = [\n",
    "  0 0 0  0 0 1  0 0 8\n",
    "  2 7 0  0 9 0  5 0 0\n",
    "  0 8 0  0 0 5  0 0 3\n",
    "\n",
    "  0 0 8  0 3 0  0 2 0\n",
    "  0 5 0  1 0 2  0 9 0\n",
    "  0 1 0  0 5 0  7 0 0\n",
    "\n",
    "  5 0 0  6 0 0  0 3 0\n",
    "  0 0 9  0 1 0  0 6 2\n",
    "  0 0 0  2 0 0  0 0 0\n",
    "];"
   ]
  },
  {
   "cell_type": "code",
   "execution_count": 15,
   "metadata": {},
   "outputs": [],
   "source": [
    "# helper function to print a sudoku grid\n",
    "function printSudoku(arr)\n",
    "  u = 0\n",
    "  println(\"+-------+-------+-------+\")\n",
    "  for p in 1:3:9\n",
    "    for q in 0:2\n",
    "      print(\"| \")\n",
    "      for r in 1:3:9\n",
    "        for s in 0:2\n",
    "          u = round(Int, arr[p+q,r+s])\n",
    "          u == 0 ? print(\" \") : print(u)\n",
    "          print(\" \")\n",
    "        end\n",
    "        print(\"| \")\n",
    "                end\n",
    "      println()\n",
    "    end\n",
    "    println(\"+-------+-------+-------+\")\n",
    "  end\n",
    "end\n",
    ";"
   ]
  },
  {
   "cell_type": "code",
   "execution_count": 16,
   "metadata": {},
   "outputs": [
    {
     "name": "stdout",
     "output_type": "stream",
     "text": [
      "+-------+-------+-------+\n",
      "|       |     1 |     8 | \n",
      "| 2 7   |   9   | 5     | \n",
      "|   8   |     5 |     3 | \n",
      "+-------+-------+-------+\n",
      "|     8 |   3   |   2   | \n",
      "|   5   | 1   2 |   9   | \n",
      "|   1   |   5   | 7     | \n",
      "+-------+-------+-------+\n",
      "| 5     | 6     |   3   | \n",
      "|     9 |   1   |   6 2 | \n",
      "|       | 2     |       | \n",
      "+-------+-------+-------+\n"
     ]
    }
   ],
   "source": [
    "printSudoku(given)"
   ]
  },
  {
   "cell_type": "code",
   "execution_count": 19,
   "metadata": {},
   "outputs": [
    {
     "name": "stdout",
     "output_type": "stream",
     "text": [
      "  0.027015 seconds (241 allocations: 280.594 KiB)\n",
      "Infeasible\n"
     ]
    },
    {
     "name": "stderr",
     "output_type": "stream",
     "text": [
      "\u001b[1m\u001b[33mWARNING: \u001b[39m\u001b[22m\u001b[33mNot solved to optimality, status: Infeasible\u001b[39m\n",
      "\u001b[1m\u001b[33mWARNING: \u001b[39m\u001b[22m\u001b[33mInfeasibility ray (Farkas proof) not available\u001b[39m\n"
     ]
    }
   ],
   "source": [
    "using JuMP, Cbc\n",
    "\n",
    "m = Model(solver = CbcSolver())\n",
    "\n",
    "@variable(m, x[1:9,1:9,1:9], Bin)\n",
    "\n",
    "# exactly one number per cell\n",
    "for i in 1:9\n",
    "  for j in 1:9\n",
    "    @constraint(m, sum(x[i,j,k] for k in 1:9) == 1)\n",
    "  end\n",
    "end\n",
    "\n",
    "# exactly one of each number per row\n",
    "for i in 1:9\n",
    "  for k in 1:9\n",
    "    @constraint(m, sum(x[i,j,k] for j in 1:9) == 1)\n",
    "  end\n",
    "end\n",
    "\n",
    "# exactly one of each number per column\n",
    "for j in 1:9\n",
    "  for k in 1:9\n",
    "    @constraint(m, sum(x[i,j,k] for i in 1:9) == 1)\n",
    "  end\n",
    "end\n",
    "\n",
    "# exactly one of each number per 3x3 block\n",
    "for k in 1:9\n",
    "  for p in 0:3:6\n",
    "    for q in 0:3:6\n",
    "      @constraint(m, sum(x[p+i,q+j,k] for i in 1:3, j in 1:3) == 1)\n",
    "    end\n",
    "  end\n",
    "end\n",
    "\n",
    "# initial conditions\n",
    "for i in 1:9\n",
    "  for j in 1:9\n",
    "    if given[i,j] != 0\n",
    "      @constraint(m, x[i,j,given[i,j]] == 1)\n",
    "    end\n",
    "  end\n",
    "end\n",
    "\n",
    "@time(status = solve(m))\n",
    "\n",
    "if status != :Optimal\n",
    "    println(status)\n",
    "else\n",
    "    # generate solution grid and display the solution\n",
    "    solution = zeros(9,9)\n",
    "    for i in 1:9\n",
    "      for j in 1:9\n",
    "        for k in 1:9\n",
    "          if getvalue(x[i,j,k]) == 1\n",
    "            solution[i,j] = k\n",
    "            continue\n",
    "          end\n",
    "        end\n",
    "      end\n",
    "    end\n",
    "\n",
    "    println(\"The given problem is: \")\n",
    "    printSudoku(given)\n",
    "\n",
    "    println(\"The solution is: \")\n",
    "    printSudoku(solution)\n",
    "end"
   ]
  },
  {
   "cell_type": "code",
   "execution_count": null,
   "metadata": {},
   "outputs": [],
   "source": []
  },
  {
   "cell_type": "code",
   "execution_count": null,
   "metadata": {},
   "outputs": [],
   "source": []
  }
 ],
 "metadata": {
  "kernelspec": {
   "display_name": "Julia 0.6.2",
   "language": "julia",
   "name": "julia-0.6"
  },
  "language_info": {
   "file_extension": ".jl",
   "mimetype": "application/julia",
   "name": "julia",
   "version": "0.6.2"
  }
 },
 "nbformat": 4,
 "nbformat_minor": 1
}
