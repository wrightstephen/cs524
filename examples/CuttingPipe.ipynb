{
 "cells": [
  {
   "cell_type": "markdown",
   "metadata": {},
   "source": [
    "# Pipe-cutting example\n",
    "\n",
    "A plumber stocks standard lengths of pipe, all of length 19 m. An order arrives for:\n",
    "\n",
    " - 12 lengths of 4m\n",
    " - 15 lengths of 5m\n",
    " - 22 lengths of 6m\n",
    "\n",
    "How should these lengths be cut from standard stock pipes so as to minimize\n",
    "the number of standard pipes used?"
   ]
  },
  {
   "cell_type": "markdown",
   "metadata": {},
   "source": [
    "### First model"
   ]
  },
  {
   "cell_type": "code",
   "execution_count": 33,
   "metadata": {},
   "outputs": [
    {
     "name": "stdout",
     "output_type": "stream",
     "text": [
      "  6.536513 seconds (92 allocations: 240.188 KiB)\n"
     ]
    },
    {
     "data": {
      "text/plain": [
       ":Optimal"
      ]
     },
     "execution_count": 33,
     "metadata": {},
     "output_type": "execute_result"
    }
   ],
   "source": [
    "using JuMP, Gurobi, Cbc\n",
    "\n",
    "scale = 10\n",
    "\n",
    "N = 16*scale  # upper bound on number of pipes needed\n",
    "\n",
    "m = Model(solver = CbcSolver())\n",
    "#m = Model(solver = GurobiSolver(OutputFlag=0))\n",
    "\n",
    "@variable(m, x[1:3,1:N] >= 0, Int)\n",
    "@variable(m, z[1:N], Bin)\n",
    "for j = 1:N\n",
    "    @constraint(m, 4x[1,j] + 5x[2,j] + 6x[3,j] <= 19)\n",
    "end\n",
    "@constraint(m, sum(x[1,j] for j=1:N) >= 12*scale)\n",
    "@constraint(m, sum(x[2,j] for j=1:N) >= 15*scale)\n",
    "@constraint(m, sum(x[3,j] for j=1:N) >= 22*scale)\n",
    "for j = 1:N\n",
    "    @constraint(m, x[1,j] <= 4z[j])\n",
    "    @constraint(m, x[2,j] <= 3z[j])\n",
    "    @constraint(m, x[3,j] <= 3z[j])\n",
    "end\n",
    "\n",
    "# symmetry-breaking\n",
    "for j = 1:N-1\n",
    "    @constraint(m, z[j] >= z[j+1])\n",
    "end\n",
    "\n",
    "@objective(m, Min, sum(z[j] for j=1:N))\n",
    "\n",
    "@time(solve(m))"
   ]
  },
  {
   "cell_type": "markdown",
   "metadata": {},
   "source": [
    "### Second model (column enumeration)"
   ]
  },
  {
   "cell_type": "code",
   "execution_count": 44,
   "metadata": {},
   "outputs": [
    {
     "name": "stdout",
     "output_type": "stream",
     "text": [
      "  0.004314 seconds (75 allocations: 7.422 KiB)\n"
     ]
    },
    {
     "data": {
      "text/plain": [
       ":Optimal"
      ]
     },
     "execution_count": 44,
     "metadata": {},
     "output_type": "execute_result"
    }
   ],
   "source": [
    "# all the columns:\n",
    "A = [ 0 0 1 0 2 1 2 3 4\n",
    "      0 1 0 2 1 2 2 1 0\n",
    "      3 2 2 1 1 0 0 0 0 ]\n",
    "scale = 1000000\n",
    "\n",
    "m = Model(solver = CbcSolver())\n",
    "#m = Model(solver = GurobiSolver(OutputFlag=0))\n",
    "\n",
    "@variable(m, x[1:9] >= 0, Int)\n",
    "@constraint(m, A*x .>= [12;15;22]*scale)\n",
    "@objective(m, Min, sum(x))\n",
    "@time(solve(m))"
   ]
  },
  {
   "cell_type": "code",
   "execution_count": null,
   "metadata": {
    "collapsed": true
   },
   "outputs": [],
   "source": []
  }
 ],
 "metadata": {
  "kernelspec": {
   "display_name": "Julia 0.6.2",
   "language": "julia",
   "name": "julia-0.6"
  },
  "language_info": {
   "file_extension": ".jl",
   "mimetype": "application/julia",
   "name": "julia",
   "version": "0.6.2"
  }
 },
 "nbformat": 4,
 "nbformat_minor": 1
}
