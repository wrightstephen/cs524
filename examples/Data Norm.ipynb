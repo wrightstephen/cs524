{
 "cells": [
  {
   "cell_type": "markdown",
   "metadata": {},
   "source": [
    "# Norms of 1D data sets"
   ]
  },
  {
   "cell_type": "code",
   "execution_count": 1,
   "metadata": {},
   "outputs": [
    {
     "data": {
      "text/plain": [
       "9-element Array{Float64,1}:\n",
       " 0.423017\n",
       " 0.682693\n",
       " 1.64566 \n",
       " 1.77329 \n",
       " 2.03477 \n",
       " 2.7888  \n",
       " 3.61828 \n",
       " 8.23648 \n",
       " 9.10357 "
      ]
     },
     "execution_count": 1,
     "metadata": {},
     "output_type": "execute_result"
    }
   ],
   "source": [
    "# randomly generate a sorted list of numbers\n",
    "srand(0)\n",
    "N = 9\n",
    "y = sort(10*rand(N))"
   ]
  },
  {
   "cell_type": "code",
   "execution_count": 8,
   "metadata": {},
   "outputs": [
    {
     "ename": "LoadError",
     "evalue": "\u001b[91mArgumentError: Module Gurobi not found in current path.\nRun `Pkg.add(\"Gurobi\")` to install the Gurobi package.\u001b[39m",
     "output_type": "error",
     "traceback": [
      "\u001b[91mArgumentError: Module Gurobi not found in current path.\nRun `Pkg.add(\"Gurobi\")` to install the Gurobi package.\u001b[39m",
      "",
      "Stacktrace:",
      " [1] \u001b[1m_require\u001b[22m\u001b[22m\u001b[1m(\u001b[22m\u001b[22m::Symbol\u001b[1m)\u001b[22m\u001b[22m at \u001b[1m./loading.jl:435\u001b[22m\u001b[22m",
      " [2] \u001b[1mrequire\u001b[22m\u001b[22m\u001b[1m(\u001b[22m\u001b[22m::Symbol\u001b[1m)\u001b[22m\u001b[22m at \u001b[1m./loading.jl:405\u001b[22m\u001b[22m"
     ]
    }
   ],
   "source": [
    "# minimize the 2-norm\n",
    "using JuMP, Gurobi\n",
    "m = Model(solver=GurobiSolver(OutputFlag=0))\n",
    "@variable(m, x)\n",
    "@objective(m, Min, sum( (y-x).^2 ) )\n",
    "\n",
    "solve(m)\n",
    "\n",
    "println(\"The mean of y is: \", getvalue(x))"
   ]
  },
  {
   "cell_type": "code",
   "execution_count": 14,
   "metadata": {},
   "outputs": [
    {
     "data": {
      "text/plain": [
       "3.367394077878682"
      ]
     },
     "execution_count": 14,
     "metadata": {},
     "output_type": "execute_result"
    }
   ],
   "source": [
    "mean(y)"
   ]
  },
  {
   "cell_type": "code",
   "execution_count": 9,
   "metadata": {},
   "outputs": [
    {
     "name": "stdout",
     "output_type": "stream",
     "text": [
      "The median of y is: 2.0347655804192266\n"
     ]
    }
   ],
   "source": [
    "# minimize the 1-norm\n",
    "using JuMP,Clp\n",
    "m = Model(solver=ClpSolver())\n",
    "@variable(m, x)\n",
    "@variable(m, t[1:N])\n",
    "@constraint(m, y-x .<= t )\n",
    "@constraint(m, -t .<= y-x )\n",
    "@objective(m, Min, sum(t) )\n",
    "\n",
    "solve(m)\n",
    "\n",
    "println(\"The median of y is: \", getvalue(x))"
   ]
  },
  {
   "cell_type": "code",
   "execution_count": 17,
   "metadata": {},
   "outputs": [
    {
     "data": {
      "text/plain": [
       "2.0347655804192266"
      ]
     },
     "execution_count": 17,
     "metadata": {},
     "output_type": "execute_result"
    }
   ],
   "source": [
    "y[5]"
   ]
  },
  {
   "cell_type": "code",
   "execution_count": 10,
   "metadata": {},
   "outputs": [
    {
     "name": "stdout",
     "output_type": "stream",
     "text": [
      "The mid-range of y is: 4.76329101929233\n"
     ]
    }
   ],
   "source": [
    "# minimize the infinity-norm\n",
    "using JuMP, Clp\n",
    "m = Model(solver=ClpSolver())\n",
    "@variable(m, x)\n",
    "@variable(m, r)\n",
    "@constraint(m, y-x .<= r )\n",
    "@constraint(m, -r .<= y-x )\n",
    "@objective(m, Min, r )\n",
    "\n",
    "solve(m)\n",
    "\n",
    "println(\"The mid-range of y is: \", getvalue(x))"
   ]
  },
  {
   "cell_type": "code",
   "execution_count": 19,
   "metadata": {},
   "outputs": [
    {
     "data": {
      "text/plain": [
       "4.76329101929233"
      ]
     },
     "execution_count": 19,
     "metadata": {},
     "output_type": "execute_result"
    }
   ],
   "source": [
    "(y[1] + y[N])/2"
   ]
  },
  {
   "cell_type": "code",
   "execution_count": null,
   "metadata": {
    "collapsed": true
   },
   "outputs": [],
   "source": []
  }
 ],
 "metadata": {
  "kernelspec": {
   "display_name": "Julia 0.6.4",
   "language": "julia",
   "name": "julia-0.6"
  },
  "language_info": {
   "file_extension": ".jl",
   "mimetype": "application/julia",
   "name": "julia",
   "version": "0.6.4"
  }
 },
 "nbformat": 4,
 "nbformat_minor": 1
}
