{
 "cells": [
  {
   "cell_type": "markdown",
   "metadata": {},
   "source": [
    "# Norms of 1D data sets"
   ]
  },
  {
   "cell_type": "code",
   "execution_count": 1,
   "metadata": {},
   "outputs": [
    {
     "data": {
      "text/plain": [
       "9-element Array{Float64,1}:\n",
       " 0.423017\n",
       " 0.682693\n",
       " 1.64566 \n",
       " 1.77329 \n",
       " 2.03477 \n",
       " 2.7888  \n",
       " 3.61828 \n",
       " 8.23648 \n",
       " 9.10357 "
      ]
     },
     "execution_count": 1,
     "metadata": {},
     "output_type": "execute_result"
    }
   ],
   "source": [
    "# randomly generate a sorted list of numbers\n",
    "srand(0)\n",
    "N = 9\n",
    "y = sort(10*rand(N))"
   ]
  },
  {
   "cell_type": "code",
   "execution_count": null,
   "metadata": {
    "collapsed": true
   },
   "outputs": [],
   "source": []
  },
  {
   "cell_type": "code",
   "execution_count": 2,
   "metadata": {},
   "outputs": [
    {
     "name": "stdout",
     "output_type": "stream",
     "text": [
      "Academic license - for non-commercial use only\n",
      "The optimal x value is: 3.3673940778786826\n"
     ]
    }
   ],
   "source": [
    "# minimize the 2-norm\n",
    "using JuMP, Gurobi\n",
    "m = Model(solver=GurobiSolver(OutputFlag=0))\n",
    "@variable(m, x)\n",
    "@objective(m, Min, sum( (y-x).^2 ) )\n",
    "\n",
    "solve(m)\n",
    "\n",
    "println(\"The optimal x value is: \", getvalue(x))"
   ]
  },
  {
   "cell_type": "code",
   "execution_count": 14,
   "metadata": {},
   "outputs": [
    {
     "data": {
      "text/plain": [
       "3.367394077878682"
      ]
     },
     "execution_count": 14,
     "metadata": {},
     "output_type": "execute_result"
    }
   ],
   "source": [
    "mean(y)"
   ]
  },
  {
   "cell_type": "code",
   "execution_count": 15,
   "metadata": {},
   "outputs": [
    {
     "name": "stdout",
     "output_type": "stream",
     "text": [
      "The optimal x value is: 2.0347655804192266\n"
     ]
    }
   ],
   "source": [
    "# minimize the 1-norm\n",
    "using JuMP\n",
    "m = Model()\n",
    "@variable(m, x)\n",
    "@variable(m, t[1:N])\n",
    "@constraint(m, y-x .<= t )\n",
    "@constraint(m, -t .<= y-x )\n",
    "@objective(m, Min, sum(t) )\n",
    "\n",
    "solve(m)\n",
    "\n",
    "println(\"The optimal x value is: \", getvalue(x))"
   ]
  },
  {
   "cell_type": "code",
   "execution_count": 16,
   "metadata": {},
   "outputs": [
    {
     "data": {
      "text/plain": [
       "2.0347655804192266"
      ]
     },
     "execution_count": 16,
     "metadata": {},
     "output_type": "execute_result"
    }
   ],
   "source": [
    "median(y)"
   ]
  },
  {
   "cell_type": "code",
   "execution_count": 17,
   "metadata": {},
   "outputs": [
    {
     "data": {
      "text/plain": [
       "2.0347655804192266"
      ]
     },
     "execution_count": 17,
     "metadata": {},
     "output_type": "execute_result"
    }
   ],
   "source": [
    "y[5]"
   ]
  },
  {
   "cell_type": "code",
   "execution_count": 18,
   "metadata": {},
   "outputs": [
    {
     "name": "stdout",
     "output_type": "stream",
     "text": [
      "The optimal x value is: 4.76329101929233\n"
     ]
    }
   ],
   "source": [
    "# minimize the infinity-norm\n",
    "using JuMP\n",
    "m = Model()\n",
    "@variable(m, x)\n",
    "@variable(m, r)\n",
    "@constraint(m, y-x .<= r )\n",
    "@constraint(m, -r .<= y-x )\n",
    "@objective(m, Min, r )\n",
    "\n",
    "solve(m)\n",
    "\n",
    "println(\"The optimal x value is: \", getvalue(x))"
   ]
  },
  {
   "cell_type": "code",
   "execution_count": 19,
   "metadata": {},
   "outputs": [
    {
     "data": {
      "text/plain": [
       "4.76329101929233"
      ]
     },
     "execution_count": 19,
     "metadata": {},
     "output_type": "execute_result"
    }
   ],
   "source": [
    "(y[1] + y[N])/2"
   ]
  },
  {
   "cell_type": "code",
   "execution_count": null,
   "metadata": {
    "collapsed": true
   },
   "outputs": [],
   "source": []
  }
 ],
 "metadata": {
  "kernelspec": {
   "display_name": "Julia 0.6.2",
   "language": "julia",
   "name": "julia-0.6"
  },
  "language_info": {
   "file_extension": ".jl",
   "mimetype": "application/julia",
   "name": "julia",
   "version": "0.6.2"
  }
 },
 "nbformat": 4,
 "nbformat_minor": 1
}
