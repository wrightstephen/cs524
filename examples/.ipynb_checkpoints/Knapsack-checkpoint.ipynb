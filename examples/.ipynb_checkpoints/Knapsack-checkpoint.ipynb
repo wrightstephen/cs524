{
 "cells": [
  {
   "cell_type": "markdown",
   "metadata": {},
   "source": [
    "# Knapsack problem\n",
    "\n",
    "My knapsack holds at most 15kg. I have the following items:\n",
    "\n",
    "|Item number | 1  | 2  | 3  | 4  | 5  |\n",
    "|------------|----|----|----|----|----|\n",
    "|weight (kg) | 12 | 2  | 4  | 1  | 1  |\n",
    "|value ($)   | 4  | 2  | 10 | 2  | 1  |\n",
    "\n",
    "How can maximize the value of the items in my knapsack?"
   ]
  },
  {
   "cell_type": "markdown",
   "metadata": {},
   "source": [
    "### First formulation"
   ]
  },
  {
   "cell_type": "code",
   "execution_count": 7,
   "metadata": {
    "scrolled": true
   },
   "outputs": [
    {
     "name": "stdout",
     "output_type": "stream",
     "text": [
      "Max 4 z[1] + 2 z[2] + 10 z[3] + 2 z[4] + z[5]\n",
      "Subject to\n",
      " 12 z[1] + 2 z[2] + 4 z[3] + z[4] + z[5] <= 15\n",
      " z[i] in {0,1} for all i in {1,2,3,4,5}\n",
      "\n",
      "Optimal\n",
      "\n",
      "z = [0.0, 1.0, 1.0, 1.0, 1.0]\n",
      "objective = 15.0\n"
     ]
    }
   ],
   "source": [
    "using JuMP, Cbc\n",
    "\n",
    "m = Model(solver=CbcSolver())\n",
    "@variable(m, z[1:5], Bin )\n",
    "@constraint(m, 12z[1] + 2z[2] + 4z[3] + z[4] + z[5] <= 15)\n",
    "@objective(m, Max, 4z[1] + 2z[2] + 10z[3] + 2z[4] + 1z[5])\n",
    "\n",
    "status = solve(m)\n",
    "\n",
    "println(m)\n",
    "println(status)\n",
    "println()\n",
    "println(\"z = \", getvalue(z) )\n",
    "println(\"objective = \", getobjectivevalue(m) )"
   ]
  },
  {
   "cell_type": "markdown",
   "metadata": {},
   "source": [
    "### General formulation\n",
    "\n",
    "Suppose we have weights $w_1,\\dots,w_n$ and a weight limit $W$. Suppose the items have values of $v_1,\\dots,v_n$. How should we choose the items in order to maximize value while satisfying weight limit."
   ]
  },
  {
   "cell_type": "code",
   "execution_count": 10,
   "metadata": {},
   "outputs": [],
   "source": [
    "# parameters for our problem\n",
    "w = [12, 2, 4, 1, 1]  # weights\n",
    "v = [4, 2, 10, 2, 1]  # values\n",
    "W = 15                # weight limit\n",
    "n = length(w);        # number of items"
   ]
  },
  {
   "cell_type": "code",
   "execution_count": 11,
   "metadata": {},
   "outputs": [
    {
     "name": "stdout",
     "output_type": "stream",
     "text": [
      "Max 4 z[1] + 2 z[2] + 10 z[3] + 2 z[4] + z[5]\n",
      "Subject to\n",
      " 12 z[1] + 2 z[2] + 4 z[3] + z[4] + z[5] <= 15\n",
      " z[i] in {0,1} for all i in {1,2,3,4,5}\n",
      "\n",
      "Optimal\n",
      "\n",
      "z = [0.0, 1.0, 1.0, 1.0, 1.0]\n",
      "objective = 15.0\n"
     ]
    }
   ],
   "source": [
    "using JuMP, Cbc\n",
    "\n",
    "m = Model(solver=CbcSolver())\n",
    "@variable(m, z[1:n], Bin )\n",
    "@constraint(m, sum( w[i]*z[i] for i=1:n) <= W )\n",
    "@objective(m, Max, sum( v[i]*z[i] for i=1:n) )\n",
    "\n",
    "status = solve(m)\n",
    "\n",
    "println(m)\n",
    "println(status)\n",
    "println()\n",
    "println(\"z = \", getvalue(z) )\n",
    "println(\"objective = \", getobjectivevalue(m) )"
   ]
  },
  {
   "cell_type": "code",
   "execution_count": null,
   "metadata": {},
   "outputs": [],
   "source": []
  }
 ],
 "metadata": {
  "kernelspec": {
   "display_name": "Julia 0.6.2",
   "language": "julia",
   "name": "julia-0.6"
  },
  "language_info": {
   "file_extension": ".jl",
   "mimetype": "application/julia",
   "name": "julia",
   "version": "0.6.2"
  }
 },
 "nbformat": 4,
 "nbformat_minor": 1
}
