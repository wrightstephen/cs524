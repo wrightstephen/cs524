{
 "cells": [
  {
   "cell_type": "markdown",
   "metadata": {},
   "source": [
    "# Swim relay problem (Van Roy and Mason)\n",
    "The coach of a swim team needs to assign swimmers to a 200-yard medley relay team to compete in a tournament. The problem is that his best swimmers are good in more than one stroke, so it's not clear which swimmer to assign to which stroke. Here are the best times for each swimmer:\n",
    "\n",
    "|Stroke       | Carl | Chris | David | Tony | Ken  |\n",
    "|-------------|:----:|:-----:|:-----:|:----:|:----:|\n",
    "|Backstroke   | 37.7 | 32.9  | 33.8  | 37.0 | 35.4 |\n",
    "|Breaststroke | 43.4 | 33.1  | 42.2  | 34.7 | 41.8 |\n",
    "|Butterfly    | 33.3 | 28.5  | 38.9  | 30.4 | 33.6 |\n",
    "|Freestyle    | 29.2 | 26.4  | 29.6  | 28.5 | 31.1 |\n"
   ]
  },
  {
   "cell_type": "markdown",
   "metadata": {},
   "source": [
    "### Solution"
   ]
  },
  {
   "cell_type": "code",
   "execution_count": 2,
   "metadata": {},
   "outputs": [
    {
     "data": {
      "text/plain": [
       "4×5 Named Array{Float64,2}\n",
       "stroke ╲ name │  :Carl  :Chris  :David   :Tony    :Ken\n",
       "──────────────┼───────────────────────────────────────\n",
       ":backstroke   │    0.0     0.0     1.0     0.0     0.0\n",
       ":breaststroke │    0.0     0.0     0.0     1.0     0.0\n",
       ":butterfly    │    0.0     1.0     0.0     0.0     0.0\n",
       ":freestyle    │    1.0     0.0     0.0     0.0     0.0"
      ]
     },
     "execution_count": 2,
     "metadata": {},
     "output_type": "execute_result"
    }
   ],
   "source": [
    "using JuMP, Clp, NamedArrays\n",
    "\n",
    "strokes = [ :backstroke, :breaststroke, :butterfly, :freestyle ]\n",
    "names = [ :Carl, :Chris, :David, :Tony, :Ken ]\n",
    "\n",
    "raw = [ 37.7 32.9 33.8 37.0 35.4\n",
    "        43.4 33.1 42.2 34.7 41.8\n",
    "        33.3 28.5 38.9 30.4 33.6\n",
    "        29.2 26.4 29.6 28.5 31.1 ]\n",
    "\n",
    "times = NamedArray( raw, (strokes,names), (\"stroke\",\"name\"))\n",
    "\n",
    "m = Model(solver=ClpSolver())\n",
    "\n",
    "@variable(m, x[strokes,names] >= 0)\n",
    "\n",
    "# each swimmer swims at most one event\n",
    "@constraint(m, a[j in names], sum(x[i,j] for i in strokes) <= 1 )\n",
    "\n",
    "# each event has exactly one swimmer\n",
    "@constraint(m, b[i in strokes], sum(x[i,j] for j in names) == 1 )\n",
    "\n",
    "@objective(m, Min, sum( x[i,j]*times[i,j] for i in strokes, j in names ) )\n",
    "\n",
    "solve(m)\n",
    "\n",
    "assignment = NamedArray( [ (getvalue(x[i,j])) for i in strokes, j in names ], (strokes, names), (\"stroke\",\"name\"))"
   ]
  },
  {
   "cell_type": "code",
   "execution_count": null,
   "metadata": {
    "collapsed": true
   },
   "outputs": [],
   "source": []
  }
 ],
 "metadata": {
  "kernelspec": {
   "display_name": "Julia 0.6.2",
   "language": "julia",
   "name": "julia-0.6"
  },
  "language_info": {
   "file_extension": ".jl",
   "mimetype": "application/julia",
   "name": "julia",
   "version": "0.6.2"
  }
 },
 "nbformat": 4,
 "nbformat_minor": 1
}
