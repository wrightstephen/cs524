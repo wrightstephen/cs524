{
 "cells": [
  {
   "cell_type": "markdown",
   "metadata": {},
   "source": [
    "## Example: ClothCo\n",
    "ClothCo is capable of manufacturing three types of clothing: shirts, shorts, and pants. Each type of clothing requires that ClothCo have the appropriate type of machine available. The machines can be rented at a fixed weekly cost. The manufacture of each type of clothing also requires some amount of cloth and labor, and returns some profit, indicated below. Each week, 150 hours of labor and 160 sq yd of cloth are available. How should ClothCo tune its production to maximize profits? Note: If we don't produce a particular item, we can save on the rental cost!\n",
    "\n",
    "| Clothing item | Labor per item | Cloth per item | Profit per item | Machine rental |\n",
    "|:------:|:-------:|:-:|:---:|:--------:|\n",
    "| Shirt  | 3 hours | 4 | \\$6 | \\$200/wk |\n",
    "| Shorts | 2 hours | 3 | \\$4 | \\$150/wk |\n",
    "| Pants  | 6 hours | 4 | \\$7 | \\$100/wk |"
   ]
  },
  {
   "cell_type": "code",
   "execution_count": 7,
   "metadata": {},
   "outputs": [
    {
     "name": "stdout",
     "output_type": "stream",
     "text": [
      "0.0 shirts\n",
      "0.0 shorts\n",
      "25.0 pants\n",
      "\n",
      "$75.0 of net profit\n"
     ]
    }
   ],
   "source": [
    "using JuMP, Cbc\n",
    "\n",
    "m = Model(solver = CbcSolver())\n",
    "\n",
    "@variable(m, x[1:3] >= 0)\n",
    "@variable(m, z[1:3], Bin)\n",
    "\n",
    "@constraint(m, 3x[1] + 2x[2] + 6x[3] <= 150)  # labor budget\n",
    "@constraint(m, 4x[1] + 3x[2] + 4x[3] <= 160)  # cloth budget\n",
    "@constraint(m, x .<= 50*z)                    # if x>0 then z=1\n",
    "\n",
    "@objective(m, Max, 6x[1] + 4x[2] + 7x[3] - 200z[1] - 150z[2] - 100z[3])\n",
    "\n",
    "solve(m)\n",
    "\n",
    "xopt = getvalue(x)\n",
    "println(xopt[1], \" shirts\")\n",
    "println(xopt[2], \" shorts\")\n",
    "println(xopt[3], \" pants\" )\n",
    "println()\n",
    "println(\"\\$\", getobjectivevalue(m), \" of net profit\")"
   ]
  },
  {
   "cell_type": "code",
   "execution_count": null,
   "metadata": {
    "collapsed": true
   },
   "outputs": [],
   "source": []
  }
 ],
 "metadata": {
  "kernelspec": {
   "display_name": "Julia 0.6.2",
   "language": "julia",
   "name": "julia-0.6"
  },
  "language_info": {
   "file_extension": ".jl",
   "mimetype": "application/julia",
   "name": "julia",
   "version": "0.6.2"
  }
 },
 "nbformat": 4,
 "nbformat_minor": 1
}
