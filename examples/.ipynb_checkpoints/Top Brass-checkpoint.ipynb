{
 "cells": [
  {
   "cell_type": "markdown",
   "metadata": {},
   "source": [
    "# Top Brass Trophy problem (Ex. 5.1 in Rardin'98)\n",
    "\n",
    "Top Brass Trophy Company makes large championship trophies for youth athletic leagues. At the moment, they are planning production for fall sports: football and soccer. Each football trophy has a wood base, an engraved plaque, a large brass football on top, and returns \\$12 in profit. Soccer trophies are similar except that a brass soccer ball is on top, and the unit profit is only \\$9. Since the football has an asymmetric shape, its base requires 4 board feet of wood; the soccer base requires only 2 board feet. At the moment there are 1000 brass footballs in stock, 1500 soccer balls, 1750 plaques, and 4800 board feet of wood. What trophies should be produced from these supplies to maximize total profit assuming that all that are made can be sold?"
   ]
  },
  {
   "cell_type": "markdown",
   "metadata": {},
   "source": [
    "### Minimal solution"
   ]
  },
  {
   "cell_type": "code",
   "execution_count": 11,
   "metadata": {},
   "outputs": [
    {
     "name": "stdout",
     "output_type": "stream",
     "text": [
      "Optimal\n",
      "Build 650.0 football trophies.\n",
      "Build 1100.0 soccer trophies.\n",
      "Total profit will be $17700.0\n"
     ]
    }
   ],
   "source": [
    "using JuMP, Clp\n",
    "\n",
    "m = Model(solver = ClpSolver())\n",
    "\n",
    "@variable(m, 0 <= f <= 1000)           # football trophies\n",
    "@variable(m, 0 <= s <= 1500)           # soccer trophies\n",
    "@constraint(m, 4f + 2s <= 4800)        # total board feet of wood\n",
    "@constraint(m, f + s <= 1750)          # total number of plaques\n",
    "@objective(m, Max, 12f + 9s)           # maximize profit\n",
    "\n",
    "status = solve(m)\n",
    "\n",
    "println(status)\n",
    "println(\"Build \", getvalue(f), \" football trophies.\")\n",
    "println(\"Build \", getvalue(s), \" soccer trophies.\")\n",
    "println(\"Total profit will be \\$\", getobjectivevalue(m))"
   ]
  },
  {
   "cell_type": "code",
   "execution_count": null,
   "metadata": {},
   "outputs": [],
   "source": []
  },
  {
   "cell_type": "code",
   "execution_count": null,
   "metadata": {},
   "outputs": [],
   "source": []
  },
  {
   "cell_type": "code",
   "execution_count": null,
   "metadata": {},
   "outputs": [],
   "source": [
    "\n",
    "\n",
    "\n",
    "\n",
    "\n",
    "\n",
    "\n",
    "\n",
    "\n",
    "\n"
   ]
  },
  {
   "cell_type": "code",
   "execution_count": 10,
   "metadata": {},
   "outputs": [
    {
     "name": "stdout",
     "output_type": "stream",
     "text": [
      "Academic license - for non-commercial use only\r\n",
      "Optimize a model with 2 rows, 2 columns and 4 nonzeros\r\n",
      "Variable types: 1 continuous, 1 integer (0 binary)\r\n",
      "Coefficient statistics:\r\n",
      "  Matrix range     [1e+00, 4e+00]\r\n",
      "  Objective range  [9e+00, 1e+01]\r\n",
      "  Bounds range     [1e+03, 2e+03]\r\n",
      "  RHS range        [2e+03, 5e+03]\r\n",
      "Found heuristic solution: objective 15600.000000\r\n",
      "Presolve time: 0.01s\r\n",
      "Presolved: 2 rows, 2 columns, 4 nonzeros\r\n",
      "Variable types: 0 continuous, 2 integer (0 binary)\r\n",
      "\r\n",
      "Root relaxation: objective 1.770000e+04, 2 iterations, 0.00 seconds\r\n",
      "\r\n",
      "    Nodes    |    Current Node    |     Objective Bounds      |     Work\r\n",
      " Expl Unexpl |  Obj  Depth IntInf | Incumbent    BestBd   Gap | It/Node Time\r\n",
      "\r\n",
      "*    0     0               0    17700.000000 17700.0000  0.00%     -    0s\r\n",
      "\r\n",
      "Explored 0 nodes (2 simplex iterations) in 0.02 seconds\r\n",
      "Thread count was 4 (of 4 available processors)\r\n",
      "\r\n",
      "Solution count 2: 17700 15600 \r\n",
      "\r\n",
      "Optimal solution found (tolerance 1.00e-04)\r\n",
      "Best objective 1.770000000000e+04, best bound 1.770000000000e+04, gap 0.0000%\r\n",
      "Build 650.0 football trophies.\n",
      "Build 1100.0 soccer trophies.\n",
      "Total profit will be $17700.0\n"
     ]
    }
   ],
   "source": [
    "using JuMP, Clp, ECOS, SCS, Cbc\n",
    "\n",
    "m = Model()\n",
    "\n",
    "@variable(m, 0 <= f <= 1000, Int)           # football trophies\n",
    "@variable(m, 0 <= s <= 1500)           # soccer trophies\n",
    "@constraint(m, 4f + 2s <= 4800)        # total board feet of wood\n",
    "@constraint(m, f + s <= 1750)          # total number of plaques\n",
    "@objective(m, Max, 12f + 9s)           # maximize profit\n",
    "\n",
    "#setsolver(m, ClpSolver())\n",
    "#setsolver(m, CbcSolver())\n",
    "#setsolver(m, ECOSSolver(verbose=0))\n",
    "#setsolver(m, SCSSolver(verbose=0))\n",
    "setsolver(m, GurobiSolver())\n",
    "\n",
    "solve(m)\n",
    "\n",
    "println(\"Build \", getvalue(f), \" football trophies.\")\n",
    "println(\"Build \", getvalue(s), \" soccer trophies.\")\n",
    "println(\"Total profit will be \\$\", getobjectivevalue(m))"
   ]
  },
  {
   "cell_type": "code",
   "execution_count": null,
   "metadata": {},
   "outputs": [],
   "source": []
  }
 ],
 "metadata": {
  "kernelspec": {
   "display_name": "Julia 0.6.2",
   "language": "julia",
   "name": "julia-0.6"
  },
  "language_info": {
   "file_extension": ".jl",
   "mimetype": "application/julia",
   "name": "julia",
   "version": "0.6.2"
  }
 },
 "nbformat": 4,
 "nbformat_minor": 1
}
