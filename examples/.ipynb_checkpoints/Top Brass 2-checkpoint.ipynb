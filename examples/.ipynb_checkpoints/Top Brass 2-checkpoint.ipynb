{
 "cells": [
  {
   "cell_type": "markdown",
   "metadata": {},
   "source": [
    "# Top Brass Trophy problem (Ex. 5.1 in Rardin'98)\n",
    "\n",
    "Top Brass Trophy Company makes large championship trophies for youth athletic leagues. At the moment, they are planning production for fall sports: football and soccer. Each football trophy has a wood base, an engraved plaque, a large brass football on top, and returns \\$12 in profit. Soccer trophies are similar except that a brass soccer ball is on top, and the unit profit is only \\$9. Since the football has an asymmetric shape, its base requires 4 board feet of wood; the soccer base requires only 2 board feet. At the moment there are 1000 brass footballs in stock, 1500 soccer balls, 1750 plaques, and 4800 board feet of wood. What trophies should be produced from these supplies to maximize total profit assuming that all that are made can be sold?"
   ]
  },
  {
   "cell_type": "markdown",
   "metadata": {
    "collapsed": true
   },
   "source": [
    "## Expanded solution\n",
    "#### Problem Data"
   ]
  },
  {
   "cell_type": "code",
   "execution_count": 13,
   "metadata": {},
   "outputs": [],
   "source": [
    "# the types of trophies produced\n",
    "sports = [:football, :soccer]\n",
    "\n",
    "# wood required for each type of trophy (in board feet)\n",
    "wood   = Dict( :football => 4, :soccer => 2)\n",
    "\n",
    "# plaques required for each type of trophy\n",
    "plaques = Dict( :football => 1, :soccer => 1)\n",
    "\n",
    "# profit made for each trophy\n",
    "profit = Dict( :football => 12, :soccer => 9)\n",
    "\n",
    "# quantities in stock for each ingredient\n",
    "num_wood     = 4800\n",
    "num_plaques  = 1750\n",
    "num_football = 1000\n",
    "num_soccer   = 1500\n",
    ";"
   ]
  },
  {
   "cell_type": "markdown",
   "metadata": {},
   "source": [
    "#### Problem Model"
   ]
  },
  {
   "cell_type": "code",
   "execution_count": 18,
   "metadata": {},
   "outputs": [
    {
     "name": "stdout",
     "output_type": "stream",
     "text": [
      "trophies: 1 dimensions:\n",
      "[  soccer] = 1100.0\n",
      "[football] = 650.0\n",
      "Total profit will be $17700.0\n",
      "Total wood used is 4800.0 board feet\n",
      "Total number of plaques used is 1750.0\n"
     ]
    }
   ],
   "source": [
    "using JuMP, Clp\n",
    "m = Model(solver = ClpSolver())\n",
    "\n",
    "@variable(m, trophies[sports] >= 0 )    # \"trophies\" is a dictionary indexed over sports\n",
    "\n",
    "@expression(m, tot_plaques, sum(trophies[i] * plaques[i] for i in sports) )\n",
    "@expression(m, tot_wood,    sum(trophies[i] * wood[i]    for i in sports) )\n",
    "@expression(m, tot_profit,  sum(trophies[i] * profit[i]  for i in sports) )\n",
    "\n",
    "@constraint(m, trophies[:soccer] <= num_soccer )      # maximum number of soccer balls\n",
    "@constraint(m, trophies[:football] <= num_football )  # maximum number of footballs\n",
    "@constraint(m, tot_plaques <= num_plaques )           # maximum number of plaques\n",
    "@constraint(m, tot_wood    <= num_wood )              # maximum amount of wood\n",
    "\n",
    "@objective(m, Max, tot_profit)\n",
    "\n",
    "solve(m)\n",
    "println(getvalue(trophies))\n",
    "println(\"Total profit will be \\$\", getvalue(tot_profit))\n",
    "println(\"Total wood used is \", getvalue(tot_wood), \" board feet\")\n",
    "println(\"Total number of plaques used is \", getvalue(tot_plaques))"
   ]
  },
  {
   "cell_type": "code",
   "execution_count": null,
   "metadata": {
    "collapsed": true
   },
   "outputs": [],
   "source": []
  }
 ],
 "metadata": {
  "kernelspec": {
   "display_name": "Julia 0.6.2",
   "language": "julia",
   "name": "julia-0.6"
  },
  "language_info": {
   "file_extension": ".jl",
   "mimetype": "application/julia",
   "name": "julia",
   "version": "0.6.2"
  }
 },
 "nbformat": 4,
 "nbformat_minor": 1
}
