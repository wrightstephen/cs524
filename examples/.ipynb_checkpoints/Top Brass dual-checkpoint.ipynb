{
 "cells": [
  {
   "cell_type": "markdown",
   "metadata": {},
   "source": [
    "# Top Brass Trophy problem (Ex. 5.1 in Rardin'98)\n",
    "\n",
    "Top Brass Trophy Company makes large championship trophies for youth athletic leagues. At the moment, they are planning production for fall sports: football and soccer. Each football trophy has a wood base, an engraved plaque, a large brass football on top, and returns \\$12 in profit. Soccer trophies are similar except that a brass soccer ball is on top, and the unit profit is only \\$9. Since the football has an asymmetric shape, its base requires 4 board feet of wood; the soccer base requires only 2 board feet. At the moment there are 1000 brass footballs in stock, 1500 soccer balls, 1750 plaques, and 4800 board feet of wood. What trophies should be produced from these supplies to maximize total profit assuming that all that are made can be sold?"
   ]
  },
  {
   "cell_type": "markdown",
   "metadata": {},
   "source": [
    "### Minimal solution"
   ]
  },
  {
   "cell_type": "code",
   "execution_count": 6,
   "metadata": {
    "collapsed": false
   },
   "outputs": [
    {
     "name": "stdout",
     "output_type": "stream",
     "text": [
      "Optimal\n",
      "Build 650.0 football trophies.\n",
      "Build 1100.0 soccer trophies.\n",
      "Total profit will be $17700.0\n"
     ]
    }
   ],
   "source": [
    "using JuMP\n",
    "\n",
    "m = Model()\n",
    "@variable(m, f >= 0)                        # football trophies\n",
    "@variable(m, s >= 0)                        # soccer trophies\n",
    "@constraint(m, Cwood,   4f + 2s <= 4800)    # total board feet of wood\n",
    "@constraint(m, Cplaques,  f + s <= 1750)    # total number of plaques\n",
    "@constraint(m, Cfballs,       f <= 1000)    # total number of brass footballs\n",
    "@constraint(m, Csballs,       s <= 1500)    # total number of brass soccer balls\n",
    "@objective(m, Max, 12f + 9s)                # maximize profit\n",
    "\n",
    "status = solve(m)\n",
    "\n",
    "println(status)\n",
    "println(\"Build \", getvalue(f), \" football trophies.\")\n",
    "println(\"Build \", getvalue(s), \" soccer trophies.\")\n",
    "println(\"Total profit will be \\$\", getobjectivevalue(m))"
   ]
  },
  {
   "cell_type": "markdown",
   "metadata": {},
   "source": [
    "### Dual variables"
   ]
  },
  {
   "cell_type": "code",
   "execution_count": 7,
   "metadata": {
    "collapsed": false
   },
   "outputs": [
    {
     "name": "stdout",
     "output_type": "stream",
     "text": [
      "Dual variable for wood: 1.5\n",
      "Dual variable for plaques: 6.0\n",
      "Dual variable for brass footballs: -0.0\n",
      "Dual variable for brass soccer balls: -0.0\n"
     ]
    }
   ],
   "source": [
    "println(\"Dual variable for wood: \", getdual(Cwood))\n",
    "println(\"Dual variable for plaques: \", getdual(Cplaques))\n",
    "println(\"Dual variable for brass footballs: \", getdual(Cfballs))\n",
    "println(\"Dual variable for brass soccer balls: \", getdual(Csballs))"
   ]
  },
  {
   "cell_type": "markdown",
   "metadata": {},
   "source": [
    "### Dual problem"
   ]
  },
  {
   "cell_type": "code",
   "execution_count": 8,
   "metadata": {
    "collapsed": false
   },
   "outputs": [
    {
     "name": "stdout",
     "output_type": "stream",
     "text": [
      "Optimal\n",
      "dual variables are: [1.5,6.0,0.0,0.0]\n",
      "Optimal objective is: 17700.0\n"
     ]
    }
   ],
   "source": [
    "using JuMP\n",
    "\n",
    "m = Model()\n",
    "@variable(m, λ[1:4] >= 0)\n",
    "@constraint(m, 4λ[1] + λ[2] + λ[3] >= 12)\n",
    "@constraint(m, 2λ[1] + λ[2] + λ[4] >= 9)\n",
    "@objective(m, Min, 4800λ[1] + 1750λ[2] + 1000λ[3] + 1500λ[4])\n",
    "\n",
    "status = solve(m)\n",
    "\n",
    "println(status)\n",
    "println(\"dual variables are: \", getvalue(λ))\n",
    "println(\"Optimal objective is: \", getobjectivevalue(m))"
   ]
  },
  {
   "cell_type": "code",
   "execution_count": null,
   "metadata": {
    "collapsed": true
   },
   "outputs": [],
   "source": []
  }
 ],
 "metadata": {
  "kernelspec": {
   "display_name": "Julia 0.5.0",
   "language": "julia",
   "name": "julia-0.5"
  },
  "language_info": {
   "file_extension": ".jl",
   "mimetype": "application/julia",
   "name": "julia",
   "version": "0.5.0"
  }
 },
 "nbformat": 4,
 "nbformat_minor": 0
}
