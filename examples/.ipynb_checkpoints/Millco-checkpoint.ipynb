{
 "cells": [
  {
   "cell_type": "markdown",
   "metadata": {},
   "source": [
    "# Lumber transportation problem (J. Reeb and S. Leavengood)\n",
    "\n",
    "Millco has three wood mills and is planning three new logging sites. Each mill has a maximum capacity and each logging site can harvest a certain number of truckloads of lumber per day. The cost of a haul is \\$2/mile of distance. If distances from logging sites to mills are given below, how should the hauls be routed to minimize hauling costs while meeting all demands?\n",
    "\n",
    "| Logging Site | Mill A | Mill B | Mill C | Max loads per day |\n",
    "|:------------:|:------:|:------:|:------:|:-----------------:|\n",
    "| 1            |  8     |  15    |  50    |  20               |\n",
    "| 2            |  10    |  17    |  20    |  30               |\n",
    "| 3            |  30    |  26    |  15    |  45               |\n",
    "| Mill demand  |  30    |  35    |  30    |                   |"
   ]
  },
  {
   "cell_type": "markdown",
   "metadata": {},
   "source": [
    "### Solution"
   ]
  },
  {
   "cell_type": "code",
   "execution_count": 1,
   "metadata": {},
   "outputs": [
    {
     "name": "stdout",
     "output_type": "stream",
     "text": [
      "Optimal\n",
      "3×3 Named Array{Int64,2}\n",
      "Sites ╲ Mills │ :A  :B  :C\n",
      "──────────────┼───────────\n",
      "1             │ 20   0   0\n",
      "2             │ 10  20   0\n",
      "3             │  0  15  30\n",
      "\n",
      "Total cost will be $5760.0\n"
     ]
    }
   ],
   "source": [
    "# this solution uses NamedArrays, which are arrays indexed over sets for both x and y dimensions.\n",
    "\n",
    "using JuMP, Clp, NamedArrays\n",
    "\n",
    "sites = [ 1,  2,  3]\n",
    "mills = [:A, :B, :C]\n",
    "\n",
    "cost_per_haul = 4    # don't forget the return trip!\n",
    "\n",
    "dist = NamedArray( [8 15 50; 10 17 20; 30 26 15], (sites,mills), (\"Sites\",\"Mills\") )\n",
    "supply = Dict(zip( sites, [20 30 45] ))\n",
    "demand = Dict(zip( mills, [30 35 30] ))\n",
    "\n",
    "m = Model(solver=ClpSolver())\n",
    "\n",
    "@variable(m, x[sites,mills] >= 0)          # x[i,j] is lumber shipped from site i to mill j.\n",
    "\n",
    "@constraint(m, sup[i in sites], sum(x[i,j] for j in mills) == supply[i] )   # supply constraint\n",
    "@constraint(m, dem[j in mills], sum(x[i,j] for i in sites) == demand[j] )   # demand constraint\n",
    "\n",
    "@objective(m, Min, cost_per_haul*sum( x[i,j]*dist[i,j] for i in sites, j in mills ) )      # minimize transportation cost\n",
    "\n",
    "status = solve(m)\n",
    "\n",
    "println(status)\n",
    "\n",
    "# nicely formatted solution\n",
    "solution = NamedArray( Int[getvalue(x[i,j]) for i in sites, j in mills], (sites,mills), (\"Sites\",\"Mills\") )\n",
    "println( solution )\n",
    "println()\n",
    "println(\"Total cost will be \\$\", getobjectivevalue(m))"
   ]
  },
  {
   "cell_type": "markdown",
   "metadata": {
    "collapsed": true
   },
   "source": [
    "### Compact version of the problem"
   ]
  },
  {
   "cell_type": "code",
   "execution_count": 9,
   "metadata": {},
   "outputs": [
    {
     "data": {
      "text/plain": [
       "3×3 Array{Float64,2}:\n",
       " 20.0   0.0   0.0\n",
       " 10.0  20.0   0.0\n",
       "  0.0  15.0  30.0"
      ]
     },
     "metadata": {},
     "output_type": "display_data"
    }
   ],
   "source": [
    "using JuMP, Clp\n",
    "\n",
    "m = Model(solver=ClpSolver())\n",
    "\n",
    "# incidence matrix:\n",
    "A = [ 1  1  1  0  0  0  0  0  0\n",
    "      0  0  0  1  1  1  0  0  0\n",
    "      0  0  0  0  0  0  1  1  1\n",
    "     -1  0  0 -1  0  0 -1  0  0\n",
    "      0 -1  0  0 -1  0  0 -1  0\n",
    "      0  0 -1  0  0 -1  0  0 -1 ]\n",
    "\n",
    "# supply and demand\n",
    "b = [ 20, 30, 45, -30, -35, -30 ]\n",
    "\n",
    "# distances\n",
    "c = [ 8, 15, 50, 10, 17, 20, 30, 26, 15, ]\n",
    "\n",
    "@variable(m, x[1:9] >= 0)\n",
    "@constraint(m, A*x .== b)\n",
    "@objective(m, Min, 4*dot(c,x))\n",
    "\n",
    "solve(m)\n",
    "xsol = getvalue(x)\n",
    "display( reshape(xsol,3,3)' )"
   ]
  },
  {
   "cell_type": "code",
   "execution_count": null,
   "metadata": {},
   "outputs": [],
   "source": []
  }
 ],
 "metadata": {
  "kernelspec": {
   "display_name": "Julia 0.6.2",
   "language": "julia",
   "name": "julia-0.6"
  },
  "language_info": {
   "file_extension": ".jl",
   "mimetype": "application/julia",
   "name": "julia",
   "version": "0.6.2"
  }
 },
 "nbformat": 4,
 "nbformat_minor": 1
}
