{
 "cells": [
  {
   "cell_type": "markdown",
   "metadata": {},
   "source": [
    "# Making tires\n",
    "\n",
    "Tires are made by combining rubber, oil, and carbon.\n",
    "- Tires must have a _hardness_ between 25 and 35.\n",
    "- Tires must have an _elasticity_ of at least 16.\n",
    "- Tires must have a _tensile strength_ of at least 12.\n",
    "\n",
    "To make a set of four tires, we require 100 pounds of total product (rubber, oil, carbon)\n",
    "- At least 50 pounds of carbon\n",
    "- Between 25 and 60 pounds of rubber\n",
    "\n",
    "Chemical Engineers tell you that the tensile strength, elasticity, and hardness of tires made of $r$ pounds of rubber, $h$ pounds of oil, and $c$ pounds of carbon are\n",
    "$$\n",
    "\\begin{aligned}\n",
    "\\text{tensile strength} &= 12.5 - 0.1h - 0.001 h^2 \\\\\n",
    "\\text{elasticity} &= 17 + .35 r - 0.04 h - 0.002 r^2 \\\\\n",
    "\\text{hardness} &= 34 + 0.1r + 0.06h - 0.3c + 0.01rh + 0.005 h^2 + 0.001 c^{1.95}\n",
    "\\end{aligned}\n",
    "$$\n",
    "\n",
    "The purchasing department says rubber costs \\$0.04/pound, oil costs \\$0.01/pound, and carbon costs \\$0.07/pound. What is the cheapest way to make tires that satisfies all the above specifications?"
   ]
  },
  {
   "cell_type": "code",
   "execution_count": 2,
   "metadata": {},
   "outputs": [
    {
     "data": {
      "text/plain": [
       "1×3 Array{Float64,2}:\n",
       " 45.2277  4.77226  50.0"
      ]
     },
     "execution_count": 2,
     "metadata": {},
     "output_type": "execute_result"
    }
   ],
   "source": [
    "using JuMP, Ipopt\n",
    "\n",
    "m = Model(solver = IpoptSolver(print_level=0))\n",
    "@variable(m, 25 <= r <= 60)\n",
    "@variable(m, h >= 0)\n",
    "@variable(m, c >= 50)\n",
    "\n",
    "@constraint(m, r + h + c == 100)\n",
    "\n",
    "@NLconstraint(m, tensile,  12.5 - 0.1h - 0.001h^2 >= 12)\n",
    "@NLconstraint(m, elasticity, 17 + 0.35r - 0.04h - 0.002r^2 >= 16)\n",
    "@NLconstraint(m, hard_lo, 25 <= 34 + 0.1r + 0.06h - 0.3c + 0.01r*h + 0.005h^2 + 0.001*c^1.95)\n",
    "@NLconstraint(m, hard_hi, 34 + 0.1r + 0.06h - 0.3c + 0.01r*h + 0.005h^2 + 0.001*c^1.95 <= 35)\n",
    "\n",
    "@objective(m, Min, 0.04r + 0.01h + 0.07c )\n",
    "solve(m)\n",
    "\n",
    "# rubber, oil, and carbon\n",
    "getvalue([r h c])"
   ]
  },
  {
   "cell_type": "code",
   "execution_count": 3,
   "metadata": {},
   "outputs": [
    {
     "data": {
      "text/plain": [
       "0.2738612850889135"
      ]
     },
     "execution_count": 3,
     "metadata": {},
     "output_type": "execute_result"
    }
   ],
   "source": [
    "getdual(tensile)"
   ]
  },
  {
   "cell_type": "code",
   "execution_count": 4,
   "metadata": {},
   "outputs": [
    {
     "data": {
      "text/plain": [
       "1.9972134957021497e-10"
      ]
     },
     "execution_count": 4,
     "metadata": {},
     "output_type": "execute_result"
    }
   ],
   "source": [
    "getdual(elasticity)"
   ]
  },
  {
   "cell_type": "code",
   "execution_count": 5,
   "metadata": {},
   "outputs": [
    {
     "data": {
      "text/plain": [
       "-7.901486691922423e-10"
      ]
     },
     "execution_count": 5,
     "metadata": {},
     "output_type": "execute_result"
    }
   ],
   "source": [
    "getdual(hard_lo)"
   ]
  },
  {
   "cell_type": "code",
   "execution_count": 6,
   "metadata": {},
   "outputs": [
    {
     "data": {
      "text/plain": [
       "-3.6717705463624503e-10"
      ]
     },
     "execution_count": 6,
     "metadata": {},
     "output_type": "execute_result"
    }
   ],
   "source": [
    "getdual(hard_hi)"
   ]
  },
  {
   "cell_type": "code",
   "execution_count": 7,
   "metadata": {},
   "outputs": [
    {
     "data": {
      "text/plain": [
       "1×3 Array{Float64,2}:\n",
       " 35.8973  4.77  59.3327"
      ]
     },
     "execution_count": 7,
     "metadata": {},
     "output_type": "execute_result"
    }
   ],
   "source": [
    "using JuMP, Ipopt\n",
    "\n",
    "ph = 0.05\n",
    "pr = 0.1\n",
    "pc = 0.02\n",
    "\n",
    "m = Model(solver = IpoptSolver(print_level=0))\n",
    "@variable(m, 4.77 >= h >= 0)\n",
    "@variable(m, c >= 50)\n",
    "\n",
    "@constraint(m, 50 <= h+c <= 75)\n",
    "\n",
    "@NLconstraint(m, elasticity, 32 + 0.05c - 0.002c^2 + 0.01h - 0.004c*h - 0.002h^2 >= 16)\n",
    "@NLconstraint(m, hard_lo, 25 <= 44 + 0.96h - 0.4c - 0.01c*h + 0.005h^2 + 0.001*c^1.95)\n",
    "@NLconstraint(m, hard_hi, 44 + 0.96h - 0.4c - 0.01c*h + 0.005h^2 + 0.001*c^1.95 <= 35)\n",
    "\n",
    "@objective(m, Min, (ph-pr)*h + (pc-pr)*c )\n",
    "solve(m)\n",
    "\n",
    "# rubber, oil, and carbon\n",
    "getvalue([100-h-c h c])"
   ]
  },
  {
   "cell_type": "code",
   "execution_count": 8,
   "metadata": {},
   "outputs": [
    {
     "data": {
      "text/plain": [
       "2.322670703444062e-10"
      ]
     },
     "execution_count": 8,
     "metadata": {},
     "output_type": "execute_result"
    }
   ],
   "source": [
    "getdual(elasticity)"
   ]
  },
  {
   "cell_type": "code",
   "execution_count": 9,
   "metadata": {},
   "outputs": [
    {
     "data": {
      "text/plain": [
       "-0.22639354712390333"
      ]
     },
     "execution_count": 9,
     "metadata": {},
     "output_type": "execute_result"
    }
   ],
   "source": [
    "getdual(hard_lo)"
   ]
  },
  {
   "cell_type": "code",
   "execution_count": 10,
   "metadata": {},
   "outputs": [
    {
     "data": {
      "text/plain": [
       "-2.5041427095986944e-10"
      ]
     },
     "execution_count": 10,
     "metadata": {},
     "output_type": "execute_result"
    }
   ],
   "source": [
    "getdual(hard_hi)"
   ]
  },
  {
   "cell_type": "code",
   "execution_count": null,
   "metadata": {
    "collapsed": true
   },
   "outputs": [],
   "source": []
  }
 ],
 "metadata": {
  "kernelspec": {
   "display_name": "Julia 0.6.2",
   "language": "julia",
   "name": "julia-0.6"
  },
  "language_info": {
   "file_extension": ".jl",
   "mimetype": "application/julia",
   "name": "julia",
   "version": "0.6.2"
  }
 },
 "nbformat": 4,
 "nbformat_minor": 1
}
