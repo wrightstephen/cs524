{
 "cells": [
  {
   "cell_type": "markdown",
   "metadata": {},
   "source": [
    "# Building a house (Harvard Business Review, 1963)\n",
    "\n",
    "Several tasks must be completed in order to build our house. Each task has a duration, tasks may be worked on simultaneously, but there is also a precedence relation. Some tasks can only be started once other tasks have been completed. The following table shows each task, it's duration, and the tasks that must be completed before it starts. How fast can the house be built?\n",
    "![alt text](https://hbr.org/resources/images/article_assets/hbr/6309/63508_A.gif)"
   ]
  },
  {
   "cell_type": "markdown",
   "metadata": {
    "collapsed": true
   },
   "source": [
    "## Problem Data"
   ]
  },
  {
   "cell_type": "code",
   "execution_count": 1,
   "metadata": {},
   "outputs": [],
   "source": [
    "# this array stores the task names (:a, :b, ..., :x)\n",
    "tasks = []\n",
    "for i = 'a':'x'\n",
    "    push!(tasks, Symbol(i))    # string(sym) converts back to a string, i.e. string(:hello) returns \"hello\"\n",
    "end\n",
    "\n",
    "# this dictionary stores the project durations\n",
    "dur = [0, 4, 2, 4, 6, 1, 2, 3, 2, 4, 10, 3, 1, 2, 3, 2, 1, 1, 2, 3, 1, 2, 5, 0]\n",
    "duration = Dict(zip(tasks,dur))\n",
    "\n",
    "# this dictionary stores the projects that a given project depends on (ancestors)\n",
    "pre = ( [], [:a], [:b], [:c], [:d], [:c], [:f], [:f], [:d], [:d,:g], [:i,:j,:h], [:k],\n",
    "    [:l], [:l], [:l], [:e], [:p], [:c], [:o,:t], [:m,:n], [:t], [:q,:r], [:v], [:s,:u,:w])\n",
    "pred = Dict(zip(tasks,pre));"
   ]
  },
  {
   "cell_type": "markdown",
   "metadata": {},
   "source": [
    "## Problem Model"
   ]
  },
  {
   "cell_type": "code",
   "execution_count": 3,
   "metadata": {},
   "outputs": [
    {
     "name": "stdout",
     "output_type": "stream",
     "text": [
      "tstart: 1 dimensions:\n",
      "[a] = -0.0\n",
      "[b] = -0.0\n",
      "[c] = 4.0\n",
      "[d] = 6.0\n",
      "[e] = 10.0\n",
      "[f] = 6.0\n",
      "[g] = 8.0\n",
      "[h] = 11.0\n",
      "[i] = 12.0\n",
      "[j] = 10.0\n",
      "[k] = 14.0\n",
      "[l] = 24.0\n",
      "[m] = 28.0\n",
      "[n] = 27.0\n",
      "[o] = 29.0\n",
      "[p] = 16.0\n",
      "[q] = 18.0\n",
      "[r] = 18.0\n",
      "[s] = 32.0\n",
      "[t] = 29.0\n",
      "[u] = 33.0\n",
      "[v] = 19.0\n",
      "[w] = 29.0\n",
      "[x] = 34.0\n",
      "minimum duration: 34.0\n"
     ]
    }
   ],
   "source": [
    "using JuMP,Clp\n",
    "m = Model(solver=ClpSolver())\n",
    "\n",
    "@variable(m, tstart[tasks])\n",
    "\n",
    "# one-line implementation of the constraints:\n",
    "# @constraint(m, link[i in tasks, j in pred[i]], tstart[i] >= tstart[j] + duration[j])\n",
    "\n",
    "for i in tasks\n",
    "    for j in pred[i]\n",
    "        @constraint(m, tstart[i] >= tstart[j] + duration[j])\n",
    "    end\n",
    "end\n",
    "@constraint(m, tstart[:a] == 0)\n",
    "@objective(m, Min, tstart[:x] + duration[:x])     # total duration is start time of last task + duration of last task.\n",
    "\n",
    "solve(m)\n",
    "println(getvalue(tstart))\n",
    "println(\"minimum duration: \", getobjectivevalue(m))"
   ]
  },
  {
   "cell_type": "code",
   "execution_count": null,
   "metadata": {
    "collapsed": true
   },
   "outputs": [],
   "source": []
  }
 ],
 "metadata": {
  "kernelspec": {
   "display_name": "Julia 0.6.2",
   "language": "julia",
   "name": "julia-0.6"
  },
  "language_info": {
   "file_extension": ".jl",
   "mimetype": "application/julia",
   "name": "julia",
   "version": "0.6.2"
  }
 },
 "nbformat": 4,
 "nbformat_minor": 1
}
