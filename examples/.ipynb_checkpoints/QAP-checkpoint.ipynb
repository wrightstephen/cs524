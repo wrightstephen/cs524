{
 "cells": [
  {
   "cell_type": "markdown",
   "metadata": {},
   "source": [
    "# Shopping mall problem\n",
    "\n",
    "A small shopping mall has four shop locations. The walking distance, in feet, between all pairs of locations are shown below. Four shops, designated A, B, C, D, are to be assigned to the four locations in such a way that customers traveling between pairs of shops will not walk too far. We have data on the number of customers per week that travel between the shops, shown below.\n",
    "\n",
    "|Distance| 1 | 2 | 3 | 4 |\n",
    "|:------:|:-:|:-:|:-:|:-:|\n",
    "|**1**   |0  |80 |150|170|\n",
    "|**2**   |   |0  |130|100|\n",
    "|**3**   |   |   |0  |120|\n",
    "|**4**   |   |   |   |0  |\n",
    "\n",
    "|Flow    | A | B | C | D |\n",
    "|:------:|:-:|:-:|:-:|:-:|\n",
    "|**A**   |0  |5  |2  |7  |\n",
    "|**B**   |   |0  |3  |8  |\n",
    "|**C**   |   |   |0  |3  |\n",
    "|**D**   |   |   |   |0  |"
   ]
  },
  {
   "cell_type": "code",
   "execution_count": 1,
   "metadata": {},
   "outputs": [],
   "source": [
    "using JuMP, NamedArrays, Gurobi, Cbc\n",
    "\n",
    "S = [:A,:B,:C,:D]\n",
    "L = [ 1, 2, 3, 4]\n",
    "\n",
    "f = NamedArray([ 0 5 2 7\n",
    "                 5 0 3 8\n",
    "                 2 3 0 3\n",
    "                 7 8 3 0 ], (S,S))\n",
    "\n",
    "d = NamedArray([   0  80 150 170\n",
    "                  80   0 130 100\n",
    "                 150 130   0 120\n",
    "                 170 100 120   0 ], (L,L))\n",
    "\n",
    "#m = Model(solver = GurobiSolver(OutputFlag=0))\n",
    "m = Model(solver = CbcSolver())\n",
    "\n",
    "@variable(m, x[S,L], Bin)\n",
    "@variable(m, z[S,L,S,L], Bin)\n",
    "\n",
    "for i in S\n",
    "    @constraint(m, sum( x[i,j] for j in L ) == 1)   # each store is in exactly one location\n",
    "end\n",
    "\n",
    "for j in L\n",
    "    @constraint(m, sum( x[i,j] for i in S ) == 1)   # each location has exactly one store\n",
    "end\n",
    "\n",
    "for i in S\n",
    "    for j in L\n",
    "        for k in S\n",
    "            for ℓ in L\n",
    "                @constraints(m, begin\n",
    "                    x[i,j] >= z[i,j,k,ℓ]\n",
    "                    x[k,ℓ] >= z[i,j,k,ℓ]\n",
    "                    x[i,j] + x[k,ℓ] <= z[i,j,k,ℓ] + 1\n",
    "                end)\n",
    "            end\n",
    "        end\n",
    "    end\n",
    "end\n",
    "\n",
    "@objective(m, Min, 1/2*sum( f[i,k]*d[j,ℓ]*z[i,j,k,ℓ] for i in S, j in L, k in S, ℓ in L ))\n",
    "\n",
    "solve(m)\n",
    "sol = NamedArray(zeros(Int,4,4),(S,L),(\"store\",\"loc\"))\n",
    "for i in S\n",
    "    for j in L\n",
    "        sol[i,j] = getvalue(x[i,j])\n",
    "    end\n",
    "end"
   ]
  },
  {
   "cell_type": "code",
   "execution_count": 2,
   "metadata": {},
   "outputs": [
    {
     "data": {
      "text/plain": [
       "4×4 Named Array{Int64,2}\n",
       "store ╲ loc │ 1  2  3  4\n",
       "────────────┼───────────\n",
       ":A          │ 1  0  0  0\n",
       ":B          │ 0  0  0  1\n",
       ":C          │ 0  0  1  0\n",
       ":D          │ 0  1  0  0"
      ]
     },
     "execution_count": 2,
     "metadata": {},
     "output_type": "execute_result"
    }
   ],
   "source": [
    "sol"
   ]
  },
  {
   "cell_type": "code",
   "execution_count": null,
   "metadata": {
    "collapsed": true
   },
   "outputs": [],
   "source": []
  }
 ],
 "metadata": {
  "kernelspec": {
   "display_name": "Julia 0.6.2",
   "language": "julia",
   "name": "julia-0.6"
  },
  "language_info": {
   "file_extension": ".jl",
   "mimetype": "application/julia",
   "name": "julia",
   "version": "0.6.2"
  }
 },
 "nbformat": 4,
 "nbformat_minor": 1
}
