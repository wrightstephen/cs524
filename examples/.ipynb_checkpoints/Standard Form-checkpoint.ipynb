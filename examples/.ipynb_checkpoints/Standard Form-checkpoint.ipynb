{
 "cells": [
  {
   "cell_type": "markdown",
   "metadata": {},
   "source": [
    "# Standard Form conversion\n",
    "\n",
    "Convert the following linear program into standard form:\n",
    "\n",
    "$$\\begin{aligned}\n",
    "\\text{minimize}\\qquad& p + q\\\\\n",
    "\\text{subject to:}\\qquad& 5p - 3q = 7 \\\\\n",
    "& 2p + q \\ge 2 \\\\\n",
    "& 1 \\le q \\le 4\n",
    "\\end{aligned}$$"
   ]
  },
  {
   "cell_type": "markdown",
   "metadata": {},
   "source": [
    "### Original problem"
   ]
  },
  {
   "cell_type": "code",
   "execution_count": 6,
   "metadata": {
    "scrolled": true
   },
   "outputs": [
    {
     "name": "stdout",
     "output_type": "stream",
     "text": [
      "Min p + q\n",
      "Subject to\n",
      " 5 p - 3 q == 7\n",
      " 2 p + q >= 2\n",
      " p\n",
      " 1 <= q <= 4\n",
      "\n",
      "Optimal\n",
      "\n",
      "p = 2.0\n",
      "q = 1.0\n",
      "objective = 3.0\n"
     ]
    }
   ],
   "source": [
    "using JuMP, Clp\n",
    "\n",
    "m = Model(solver=ClpSolver())\n",
    "@variable(m, p )\n",
    "@variable(m, 1 <= q <= 4 )\n",
    "@constraint(m, 5p - 3q == 7 )\n",
    "@constraint(m, 2p + q >= 2 )\n",
    "@objective(m, Min, p + q )\n",
    "\n",
    "status = solve(m)\n",
    "\n",
    "println(m)\n",
    "println(status)\n",
    "println()\n",
    "println(\"p = \", getvalue(p) )\n",
    "println(\"q = \", getvalue(q) )\n",
    "println(\"objective = \", getobjectivevalue(m) )"
   ]
  },
  {
   "cell_type": "markdown",
   "metadata": {},
   "source": [
    "### Standard form\n",
    "should look like:\n",
    "$$\\begin{aligned}\n",
    "\\text{maximize}\\qquad& c^T x\\\\\n",
    "\\text{subject to:}\\qquad& Ax \\le b\\\\\n",
    "& x \\ge 0\n",
    "\\end{aligned}$$"
   ]
  },
  {
   "cell_type": "code",
   "execution_count": 7,
   "metadata": {},
   "outputs": [
    {
     "name": "stdout",
     "output_type": "stream",
     "text": [
      "Max -u + v - w - 1\n",
      "Subject to\n",
      " w <= 3\n",
      " -5 u + 5 v + 3 w <= -10\n",
      " 5 u - 5 v - 3 w <= 10\n",
      " -2 u + 2 v - w <= -1\n",
      " u >= 0\n",
      " v >= 0\n",
      " w >= 0\n",
      "\n",
      "Optimal\n",
      "\n",
      "p = 2.0\n",
      "q = 1.0\n",
      "objective = 3.0\n"
     ]
    }
   ],
   "source": [
    "using JuMP, Clp\n",
    "\n",
    "m = Model(solver=ClpSolver())\n",
    "@variable(m, u >= 0 )\n",
    "@variable(m, v >= 0 )\n",
    "@variable(m, w >= 0 )\n",
    "@constraint(m, (w+1) <= 4 )\n",
    "@constraint(m, -5(u-v) + 3(w+1) <= -7 )\n",
    "@constraint(m, 5(u-v) - 3(w+1) <= 7 )\n",
    "@constraint(m, -2(u-v) - (w+1) <= -2 )\n",
    "@objective(m, Max, -(u-v) - (w+1) )\n",
    "\n",
    "status = solve(m)\n",
    "\n",
    "println(m)\n",
    "println(status)\n",
    "println()\n",
    "println(\"p = \", getvalue(u-v) )\n",
    "println(\"q = \", getvalue(w+1) )\n",
    "println(\"objective = \", -getobjectivevalue(m) )"
   ]
  },
  {
   "cell_type": "markdown",
   "metadata": {},
   "source": [
    "### Standard form (compact)"
   ]
  },
  {
   "cell_type": "code",
   "execution_count": 8,
   "metadata": {},
   "outputs": [
    {
     "name": "stdout",
     "output_type": "stream",
     "text": [
      "Max -x[1] + x[2] - x[3]\n",
      "Subject to\n",
      " x[3] <= 3\n",
      " -5 x[1] + 5 x[2] + 3 x[3] <= -10\n",
      " 5 x[1] - 5 x[2] - 3 x[3] <= 10\n",
      " -2 x[1] + 2 x[2] - x[3] <= -1\n",
      " x[i] >= 0 for all i in {1,2,3}\n",
      "\n",
      "Optimal\n",
      "\n",
      "p = 2.0\n",
      "q = 1.0\n",
      "objective = 3.0\n"
     ]
    }
   ],
   "source": [
    "# we defined the vector x to be: x = [u;  v;  w]\n",
    "A = [0 0 1; -5 5 3; 5 -5 -3; -2 2 -1]\n",
    "b = [3; -10; 10; -1]\n",
    "c = [-1; 1; -1]\n",
    "\n",
    "using JuMP, Clp\n",
    "\n",
    "m = Model(solver=ClpSolver())\n",
    "@variable(m, x[1:3] >= 0 )      # specify a vector variable\n",
    "@constraint(m, A*x .<= b )      # the dot in front of <=, which indicates element-wise (vector) inequalities\n",
    "@objective(m, Max, dot(c,x) )   # must use dot(c,x) or (c'*x)[1] to return a scalar\n",
    "\n",
    "status = solve(m)\n",
    "\n",
    "println(m)\n",
    "println(status)\n",
    "println()\n",
    "println(\"p = \", getvalue(x[1]-x[2]) )\n",
    "println(\"q = \", getvalue(x[3]+1) )\n",
    "println(\"objective = \", -(getobjectivevalue(m)-1) )"
   ]
  },
  {
   "cell_type": "code",
   "execution_count": null,
   "metadata": {},
   "outputs": [],
   "source": []
  }
 ],
 "metadata": {
  "kernelspec": {
   "display_name": "Julia 0.6.2",
   "language": "julia",
   "name": "julia-0.6"
  },
  "language_info": {
   "file_extension": ".jl",
   "mimetype": "application/julia",
   "name": "julia",
   "version": "0.6.2"
  }
 },
 "nbformat": 4,
 "nbformat_minor": 1
}
