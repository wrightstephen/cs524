{
 "cells": [
  {
   "cell_type": "markdown",
   "metadata": {},
   "source": [
    "# Top Brass Trophy problem (Ex. 5.1 in Rardin'98)\n",
    "\n",
    "Top Brass Trophy Company makes large championship trophies for youth athletic leagues. At the moment, they are planning production for fall sports: football and soccer. Each football trophy has a wood base, an engraved plaque, a large brass football on top, and returns \\$12 in profit. Soccer trophies are similar except that a brass soccer ball is on top, and the unit profit is only \\$9. Since the football has an asymmetric shape, its base requires 4 board feet of wood; the soccer base requires only 2 board feet. At the moment there are 1000 brass footballs in stock, 1500 soccer balls, 1750 plaques, and 4800 board feet of wood. What trophies should be produced from these supplies to maximize total profit assuming that all that are made can be sold?"
   ]
  },
  {
   "cell_type": "markdown",
   "metadata": {
    "collapsed": true
   },
   "source": [
    "## Expanded solution\n",
    "#### Problem Data"
   ]
  },
  {
   "cell_type": "code",
   "execution_count": 58,
   "metadata": {
    "collapsed": false
   },
   "outputs": [],
   "source": [
    "# the types of trophies produced\n",
    "sports = [:soccer, :football]\n",
    "\n",
    "# profits returned (sports)\n",
    "profit = Dict( zip( sports, [ 9, 12 ] ) )\n",
    "\n",
    "# ingredients involved\n",
    "ingredients = [:brass_soccer, :brass_football, :wood, :plaque]\n",
    "\n",
    "# quantities available (ingredients)\n",
    "quant_avail = Dict( zip( ingredients, [ 1500, 1000, 4800, 1750 ] ) )\n",
    "\n",
    "# recipes (ingredient, sport)\n",
    "using NamedArrays\n",
    "recipe_mat = [ 1 0\n",
    "               0 1\n",
    "               2 4\n",
    "               1 1 ]\n",
    "recipe = NamedArray( recipe_mat, (ingredients,sports), (\"ingredient\",\"sport\") )\n",
    ";"
   ]
  },
  {
   "cell_type": "markdown",
   "metadata": {},
   "source": [
    "#### Problem Model"
   ]
  },
  {
   "cell_type": "code",
   "execution_count": 62,
   "metadata": {
    "collapsed": false
   },
   "outputs": [
    {
     "name": "stdout",
     "output_type": "stream",
     "text": [
      "trophies: 1 dimensions:\n",
      "[  soccer] = 1100.0\n",
      "[football] = 650.0\n",
      "\n"
     ]
    }
   ],
   "source": [
    "using JuMP\n",
    "m = Model()\n",
    "\n",
    "@variable(m, trophies[sports] >= 0 )\n",
    "@expression(m, total_profit, sum( profit[s]*trophies[s] for s in sports) )\n",
    "@constraint(m, constr[i in ingredients], sum( recipe[i,s]*trophies[s] for s in sports ) <= quant_avail[i] )\n",
    "@objective(m, Max, total_profit )\n",
    "\n",
    "solve(m)\n",
    "println(getvalue(trophies))"
   ]
  },
  {
   "cell_type": "code",
   "execution_count": null,
   "metadata": {
    "collapsed": true
   },
   "outputs": [],
   "source": []
  }
 ],
 "metadata": {
  "kernelspec": {
   "display_name": "Julia 0.5.0",
   "language": "julia",
   "name": "julia-0.5"
  },
  "language_info": {
   "file_extension": ".jl",
   "mimetype": "application/julia",
   "name": "julia",
   "version": "0.5.0"
  }
 },
 "nbformat": 4,
 "nbformat_minor": 0
}
