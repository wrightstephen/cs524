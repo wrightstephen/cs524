{
 "cells": [
  {
   "cell_type": "markdown",
   "metadata": {},
   "source": [
    "# Top Brass Trophy problem (Ex. 5.1 in Rardin'98)\n",
    "\n",
    "Top Brass Trophy Company makes large championship trophies for youth athletic leagues. At the moment, they are planning production for fall sports: football and soccer. Each football trophy has a wood base, an engraved plaque, a large brass football on top, and returns \\$12 in profit. Soccer trophies are similar except that a brass soccer ball is on top, and the unit profit is only \\$9. Since the football has an asymmetric shape, its base requires 4 board feet of wood; the soccer base requires only 2 board feet. At the moment there are 1000 brass footballs in stock, 1500 soccer balls, 1750 plaques, and 4800 board feet of wood. What trophies should be produced from these supplies to maximize total profit assuming that all that are made can be sold?"
   ]
  },
  {
   "cell_type": "markdown",
   "metadata": {},
   "source": [
    "### Minimal solution"
   ]
  },
  {
   "cell_type": "code",
   "execution_count": 1,
   "metadata": {},
   "outputs": [
    {
     "data": {
      "text/latex": [
       "$$ \\begin{alignat*}{1}\\max\\quad & 12 f + 9 s\\\\\n",
       "\\text{Subject to} \\quad & 4 f + 2 s \\leq 4800\\\\\n",
       " & f + s \\leq 1750\\\\\n",
       " & f \\leq 1000\\\\\n",
       " & s \\leq 1500\\\\\n",
       " & f \\geq 0\\\\\n",
       " & s \\geq 0\\\\\n",
       "\\end{alignat*}\n",
       " $$"
      ],
      "text/plain": [
       "Maximization problem with:\n",
       " * 4 linear constraints\n",
       " * 2 variables\n",
       "Solver is ClpMathProg"
      ]
     },
     "metadata": {},
     "output_type": "display_data"
    },
    {
     "name": "stdout",
     "output_type": "stream",
     "text": [
      "Optimal\n",
      "Build 650.0 football trophies.\n",
      "Build 1100.0 soccer trophies.\n",
      "Total profit will be $17700.0\n"
     ]
    }
   ],
   "source": [
    "using JuMP, Clp\n",
    "\n",
    "m = Model(solver=ClpSolver())\n",
    "@variable(m, f >= 0)                        # football trophies\n",
    "@variable(m, s >= 0)                        # soccer trophies\n",
    "@constraint(m, Cwood,   4f + 2s <= 4800)    # total board feet of wood\n",
    "@constraint(m, Cplaques,  f + s <= 1750)    # total number of plaques\n",
    "@constraint(m, Cfballs,       f <= 1000)    # total number of brass footballs\n",
    "@constraint(m, Csballs,       s <= 1500)    # total number of brass soccer balls\n",
    "@objective(m, Max, 12f + 9s)                # maximize profit\n",
    "\n",
    "status = solve(m)\n",
    "\n",
    "display(m)\n",
    "\n",
    "println(status)\n",
    "println(\"Build \", getvalue(f), \" football trophies.\")\n",
    "println(\"Build \", getvalue(s), \" soccer trophies.\")\n",
    "println(\"Total profit will be \\$\", getobjectivevalue(m))"
   ]
  },
  {
   "cell_type": "markdown",
   "metadata": {},
   "source": [
    "### Dual variables"
   ]
  },
  {
   "cell_type": "code",
   "execution_count": 2,
   "metadata": {},
   "outputs": [
    {
     "name": "stdout",
     "output_type": "stream",
     "text": [
      "Dual variable for wood: 1.5\n",
      "Dual variable for plaques: 6.0\n",
      "Dual variable for brass footballs: -0.0\n",
      "Dual variable for brass soccer balls: -0.0\n"
     ]
    }
   ],
   "source": [
    "println(\"Dual variable for wood: \", getdual(Cwood))\n",
    "println(\"Dual variable for plaques: \", getdual(Cplaques))\n",
    "println(\"Dual variable for brass footballs: \", getdual(Cfballs))\n",
    "println(\"Dual variable for brass soccer balls: \", getdual(Csballs))"
   ]
  },
  {
   "cell_type": "markdown",
   "metadata": {},
   "source": [
    "### Dual problem"
   ]
  },
  {
   "cell_type": "code",
   "execution_count": 3,
   "metadata": {},
   "outputs": [
    {
     "data": {
      "text/latex": [
       "$$ \\begin{alignat*}{1}\\min\\quad & 4800 λ_{1} + 1750 λ_{2} + 1000 λ_{3} + 1500 λ_{4}\\\\\n",
       "\\text{Subject to} \\quad & 4 λ_{1} + λ_{2} + λ_{3} \\geq 12\\\\\n",
       " & 2 λ_{1} + λ_{2} + λ_{4} \\geq 9\\\\\n",
       " & λ_{i} \\geq 0 \\quad\\forall i \\in \\{1,2,3,4\\}\\\\\n",
       "\\end{alignat*}\n",
       " $$"
      ],
      "text/plain": [
       "Minimization problem with:\n",
       " * 2 linear constraints\n",
       " * 4 variables\n",
       "Solver is ClpMathProg"
      ]
     },
     "metadata": {},
     "output_type": "display_data"
    },
    {
     "name": "stdout",
     "output_type": "stream",
     "text": [
      "Optimal\n",
      "dual variables are: [1.5, 6.0, 0.0, 0.0]\n",
      "Optimal objective is: 17700.0\n"
     ]
    }
   ],
   "source": [
    "using JuMP, Clp\n",
    "\n",
    "m = Model(solver=ClpSolver())\n",
    "@variable(m, λ[1:4] >= 0)\n",
    "@constraint(m, 4λ[1] + λ[2] + λ[3] >= 12)\n",
    "@constraint(m, 2λ[1] + λ[2] + λ[4] >= 9)\n",
    "@objective(m, Min, 4800λ[1] + 1750λ[2] + 1000λ[3] + 1500λ[4])\n",
    "\n",
    "status = solve(m)\n",
    "\n",
    "display(m)\n",
    "\n",
    "println(status)\n",
    "println(\"dual variables are: \", getvalue(λ))\n",
    "println(\"Optimal objective is: \", getobjectivevalue(m))"
   ]
  },
  {
   "cell_type": "code",
   "execution_count": null,
   "metadata": {
    "collapsed": true
   },
   "outputs": [],
   "source": []
  }
 ],
 "metadata": {
  "kernelspec": {
   "display_name": "Julia 0.6.2",
   "language": "julia",
   "name": "julia-0.6"
  },
  "language_info": {
   "file_extension": ".jl",
   "mimetype": "application/julia",
   "name": "julia",
   "version": "0.6.2"
  }
 },
 "nbformat": 4,
 "nbformat_minor": 1
}
