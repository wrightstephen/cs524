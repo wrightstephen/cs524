{
 "cells": [
  {
   "cell_type": "markdown",
   "metadata": {},
   "source": [
    "# Top Brass Trophy problem (Ex. 5.1 in Rardin'98)\n",
    "\n",
    "Top Brass Trophy Company makes large championship trophies for youth athletic leagues. At the moment, they are planning production for fall sports: football and soccer. Each football trophy has a wood base, an engraved plaque, a large brass football on top, and returns \\$12 in profit. Soccer trophies are similar except that a brass soccer ball is on top, and the unit profit is only \\$9. Since the football has an asymmetric shape, its base requires 4 board feet of wood; the soccer base requires only 2 board feet. At the moment there are 1000 brass footballs in stock, 1500 soccer balls, 1750 plaques, and 4800 board feet of wood. What trophies should be produced from these supplies to maximize total profit assuming that all that are made can be sold?"
   ]
  },
  {
   "cell_type": "markdown",
   "metadata": {
    "collapsed": true
   },
   "source": [
    "## Expanded solution\n",
    "#### Problem Data"
   ]
  },
  {
   "cell_type": "code",
   "execution_count": 19,
   "metadata": {},
   "outputs": [],
   "source": [
    "# the types of trophies produced\n",
    "sports = [:football, :soccer, :hockey]\n",
    "\n",
    "# ingredients involved\n",
    "ingredients = [:wood, :plaque, :brass_football, :brass_soccer, :paint]\n",
    "\n",
    "# profits returned (for each sport)\n",
    "profit = Dict( zip( sports, [ 12, 9, 10 ] ) )\n",
    "\n",
    "# quantities available (for each ingredient)\n",
    "quant_avail = Dict( zip( ingredients, [ 4800, 1750, 1000, 1500, 2000 ] ) )\n",
    "\n",
    "# recipes (sport, ingredient)\n",
    "using NamedArrays\n",
    "recipe_mat = [ 4 1 1 0 1\n",
    "               2 1 0 1 1\n",
    "               3 1 0 2 1 ]\n",
    "recipe = NamedArray( recipe_mat, (sports,ingredients), (\"sport\",\"ingredient\",) )\n",
    ";"
   ]
  },
  {
   "cell_type": "markdown",
   "metadata": {},
   "source": [
    "#### Problem Model"
   ]
  },
  {
   "cell_type": "code",
   "execution_count": 20,
   "metadata": {},
   "outputs": [
    {
     "name": "stdout",
     "output_type": "stream",
     "text": [
      "trophies: 1 dimensions:\n",
      "[football] = 650.0\n",
      "[  soccer] = 1100.0\n",
      "[  hockey] = 0.0\n",
      "Total profit is: $17700.0\n"
     ]
    }
   ],
   "source": [
    "using JuMP, Clp\n",
    "m = Model(solver = ClpSolver())\n",
    "\n",
    "@variable(m, trophies[sports] >= 0 )\n",
    "@expression(m, total_profit, sum( profit[s]*trophies[s] for s in sports) )\n",
    "@constraint(m, constr[i in ingredients], sum( recipe[s,i]*trophies[s] for s in sports ) <= quant_avail[i] )\n",
    "@objective(m, Max, total_profit )\n",
    "\n",
    "solve(m)\n",
    "println(getvalue(trophies))\n",
    "println(\"Total profit is: \\$\", getvalue(total_profit))"
   ]
  },
  {
   "cell_type": "code",
   "execution_count": null,
   "metadata": {
    "collapsed": true
   },
   "outputs": [],
   "source": []
  }
 ],
 "metadata": {
  "kernelspec": {
   "display_name": "Julia 0.6.4",
   "language": "julia",
   "name": "julia-0.6"
  },
  "language_info": {
   "file_extension": ".jl",
   "mimetype": "application/julia",
   "name": "julia",
   "version": "0.6.4"
  }
 },
 "nbformat": 4,
 "nbformat_minor": 1
}
